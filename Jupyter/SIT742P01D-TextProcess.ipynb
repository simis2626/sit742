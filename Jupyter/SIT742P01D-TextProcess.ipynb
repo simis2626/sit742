{
 "cells": [
  {
   "cell_type": "markdown",
   "metadata": {},
   "source": [
    "# SIT742: Modern Data Science \n",
    "**(Week 01: Programming Python)**\n",
    "\n",
    "---\n",
    "- Materials in this module include resources collected from various open-source online repositories.\n",
    "- You are free to use, change and distribute this package.\n",
    "- If you found any issue/bug for this document, please submit an issue at [tulip-lab/sit742](https://github.com/tulip-lab/sit742/issues)\n",
    "\n",
    "\n",
    "\n",
    "Prepared by **SIT742 Teaching Team**\n",
    "\n",
    "\n",
    "---\n",
    "\n",
    "\n",
    "# Session 1D - Text processing\n",
    "\n",
    "\n",
    "## Introduction\n",
    "\n",
    "\n",
    "**String** are among the most popular types in *Python*. Python provides a wide range \n",
    "of string methods  and other services to support text processing through string \n",
    "manipulation. We will look at the most common string methods for text manipulation \n",
    "and  use of **regular expression** to extract data  from **HTML** files. \n",
    "\n",
    "For more information, please refer to the documentation for [Python's built-in type(String)](https://docs.python.org/3/library/stdtypes.html#textseq).\n"
   ]
  },
  {
   "cell_type": "markdown",
   "metadata": {},
   "source": [
    "## Table of Content\n",
    "\n",
    "1. [Work with String](#cell_string)\n",
    "\n",
    "2. [Regular expression](#cell_regular)\n"
   ]
  },
  {
   "cell_type": "markdown",
   "metadata": {},
   "source": [
    "<a id = \"cell_string\"></a>"
   ]
  },
  {
   "cell_type": "markdown",
   "metadata": {},
   "source": [
    "## 1. Work with string \n",
    "\n",
    "\n",
    "### String methods\n",
    "We will look at some of the most common string methods in this section. A method is \n",
    "like a function, but it runs \"**on**\" an object. \n",
    " \n",
    "For example the **upper** is a method that can be invoked on any **string** \n",
    "object to create a new string in which all the characters are in uppercase. **Lower**\n",
    " works in a similar fashion changing all characters in the string to lowercase. Note that \n",
    " the original string **ss** remains unchanged and a new string **tt** is created. "
   ]
  },
  {
   "cell_type": "code",
   "execution_count": null,
   "metadata": {},
   "outputs": [],
   "source": [
    "ss = \"Hello, World\"\n",
    "print(ss.upper())\n",
    "\n",
    "tt = ss.lower()\n",
    "print(tt)"
   ]
  },
  {
   "cell_type": "markdown",
   "metadata": {},
   "source": [
    "In addition to **upper** and **lower**, the following  table provides a summary \n",
    "of some other useful string methods. "
   ]
  },
  {
   "cell_type": "markdown",
   "metadata": {},
   "source": [
    "<table width=\"304\" border=\"1\">\n",
    "  <tr>\n",
    "    <th width=\"50\" scope=\"col\">Method</th>\n",
    "    <th width=\"250\" scope=\"col\">Description</th>\n",
    "  </tr>\n",
    "  <tr>\n",
    "    <td>upper</td>\n",
    "    <td>Returns a string in all uppercase</td>\n",
    "  </tr>\n",
    "  \n",
    "   <tr>\n",
    "    <td>lower</td>\n",
    "    <td>Returns a string in all lowercase </td>\n",
    "  </tr>\n",
    "  \n",
    "   <tr>\n",
    "    <td>strip </td>\n",
    "    <td>Returns a string with the leading and trailing whitespace removed</td>\n",
    "   </tr>\n",
    "\n",
    "\n",
    "   <tr>\n",
    "    <td>lstrip</td>\n",
    "    <td>Returns a string with the leading whitespace removed</td>\n",
    "   </tr>\n",
    "\n",
    "   <tr>\n",
    "    <td>rstrip</td>\n",
    "    <td>Returns a string with the trailing whitespace removed\n",
    "    </td>\n",
    "   </tr>\n",
    "\n",
    "   <tr>\n",
    "    <td>replace</td>\n",
    "    <td>Replaces all occurrences of old substring with new \\</td>\n",
    "   </tr>\n",
    "\n",
    "   <tr>\n",
    "    <td>center</td>\n",
    "    <td>Returns a string centered in a field of width spaces </td>\n",
    "   </tr>\n",
    "   \n",
    "   <tr>\n",
    "    <td>ljust</td>\n",
    "    <td>Returns a string left justified in a field of width spaces  </td>\n",
    "   </tr>\n",
    "   \n",
    "   <tr>\n",
    "    <td>rjust</td>\n",
    "    <td>Returns a string right justified in a field of width spaces </td>\n",
    "   </tr>\n",
    "   \n",
    "   <tr>\n",
    "    <td>find</td>\n",
    "    <td>Returns the leftmost index where the substring item is found </td>\n",
    "   </tr>\n",
    "   \n",
    "   <tr>\n",
    "    <td>rfind</td>\n",
    "    <td>Returns the rightmost index where the substring item is found </td>\n",
    "   </tr>\n",
    "   \n",
    "  \n",
    "\n",
    "</table>\n",
    "\n"
   ]
  },
  {
   "cell_type": "markdown",
   "metadata": {},
   "source": [
    "The following script provides  examples that illustrate use of these methods. Please \n",
    "type in and run the scripts to try them out. \n",
    "\n",
    "**Example1:**"
   ]
  },
  {
   "cell_type": "code",
   "execution_count": null,
   "metadata": {},
   "outputs": [],
   "source": [
    "ss = \"    Hello, World    \"\n",
    "\n",
    "els = ss.count(\"l\")\n",
    "print(els)"
   ]
  },
  {
   "cell_type": "code",
   "execution_count": null,
   "metadata": {},
   "outputs": [],
   "source": [
    "print(\"***\" + ss.strip() + \"***\")"
   ]
  },
  {
   "cell_type": "code",
   "execution_count": null,
   "metadata": {},
   "outputs": [],
   "source": [
    "print(\"***\" + ss.lstrip() + \"***\")"
   ]
  },
  {
   "cell_type": "code",
   "execution_count": null,
   "metadata": {},
   "outputs": [],
   "source": [
    "print(\"***\" + ss.rstrip() + \"***\")"
   ]
  },
  {
   "cell_type": "code",
   "execution_count": null,
   "metadata": {},
   "outputs": [],
   "source": [
    "news = ss.replace(\"o\", \"***\")\n",
    "print(news)"
   ]
  },
  {
   "cell_type": "markdown",
   "metadata": {},
   "source": [
    "**Example2:**"
   ]
  },
  {
   "cell_type": "code",
   "execution_count": null,
   "metadata": {},
   "outputs": [],
   "source": [
    "food = \"banana bread\"\n",
    "print(food.capitalize())"
   ]
  },
  {
   "cell_type": "code",
   "execution_count": null,
   "metadata": {},
   "outputs": [],
   "source": [
    "print(\"*\" + food.center(25) + \"*\")"
   ]
  },
  {
   "cell_type": "code",
   "execution_count": null,
   "metadata": {},
   "outputs": [],
   "source": [
    "print(\"*\" + food.ljust(25) + \"*\")     # stars added to show bounds"
   ]
  },
  {
   "cell_type": "code",
   "execution_count": null,
   "metadata": {},
   "outputs": [],
   "source": [
    "print(\"*\" + food.rjust(25) + \"*\")"
   ]
  },
  {
   "cell_type": "code",
   "execution_count": null,
   "metadata": {},
   "outputs": [],
   "source": [
    "print(food.find(\"e\"))"
   ]
  },
  {
   "cell_type": "code",
   "execution_count": null,
   "metadata": {},
   "outputs": [],
   "source": [
    "print(food.find(\"na\"))"
   ]
  },
  {
   "cell_type": "code",
   "execution_count": null,
   "metadata": {},
   "outputs": [],
   "source": [
    "print(food.find(\"b\"))"
   ]
  },
  {
   "cell_type": "code",
   "execution_count": null,
   "metadata": {},
   "outputs": [],
   "source": [
    "print(food.rfind(\"e\"))"
   ]
  },
  {
   "cell_type": "code",
   "execution_count": null,
   "metadata": {},
   "outputs": [],
   "source": [
    "print(food.rfind(\"na\"))"
   ]
  },
  {
   "cell_type": "code",
   "execution_count": null,
   "metadata": {},
   "outputs": [],
   "source": [
    "print(food.rfind(\"b\"))"
   ]
  },
  {
   "cell_type": "code",
   "execution_count": null,
   "metadata": {},
   "outputs": [],
   "source": [
    "print(food.index(\"e\"))"
   ]
  },
  {
   "cell_type": "markdown",
   "metadata": {},
   "source": [
    "You can also make up your own examples to gain more understanding. Note once again \n",
    "that the methods that return strings do not change the original. "
   ]
  },
  {
   "cell_type": "markdown",
   "metadata": {},
   "source": [
    "### The **in** operator###\n",
    "The **in** operator tests of one string as a substring of another. Think about\n",
    " what the outputs the following script should be, and then try it out and check your answer."
   ]
  },
  {
   "cell_type": "code",
   "execution_count": null,
   "metadata": {},
   "outputs": [],
   "source": [
    "print('p' in 'apple')"
   ]
  },
  {
   "cell_type": "code",
   "execution_count": null,
   "metadata": {},
   "outputs": [],
   "source": [
    "print('i' in 'apple')"
   ]
  },
  {
   "cell_type": "code",
   "execution_count": null,
   "metadata": {},
   "outputs": [],
   "source": [
    "print('ap' in 'apple')"
   ]
  },
  {
   "cell_type": "code",
   "execution_count": null,
   "metadata": {},
   "outputs": [],
   "source": [
    "print('pa' in 'apple')"
   ]
  },
  {
   "cell_type": "markdown",
   "metadata": {},
   "source": [
    "Note that a string is a substring of itself, and the empty string is a \n",
    "substring of any other string. See the following examples. Also note that you often need \n",
    "to consider these edge cases very carefully so that your programs run smoothly on all\n",
    "  possible inputs. \n",
    " "
   ]
  },
  {
   "cell_type": "code",
   "execution_count": null,
   "metadata": {},
   "outputs": [],
   "source": [
    " print('a' in 'a')"
   ]
  },
  {
   "cell_type": "code",
   "execution_count": null,
   "metadata": {},
   "outputs": [],
   "source": [
    " print('apple' in 'apple')"
   ]
  },
  {
   "cell_type": "code",
   "execution_count": null,
   "metadata": {},
   "outputs": [],
   "source": [
    " print('' in 'a')"
   ]
  },
  {
   "cell_type": "code",
   "execution_count": null,
   "metadata": {},
   "outputs": [],
   "source": [
    " print('' in 'apple') "
   ]
  },
  {
   "cell_type": "markdown",
   "metadata": {},
   "source": [
    " The **not in** operator returns the logical opposite result of **in**. \n",
    " "
   ]
  },
  {
   "cell_type": "code",
   "execution_count": null,
   "metadata": {},
   "outputs": [],
   "source": [
    "print('x' not in 'apple')"
   ]
  },
  {
   "cell_type": "markdown",
   "metadata": {},
   "source": [
    "### String and List ###\n",
    "\n",
    "Two of the most useful methods on strings involve lists of strings. The **split** \n",
    "method breaks a string into a list of words. By default, any number of whitespace \n",
    "characters is considered a word boundary. "
   ]
  },
  {
   "cell_type": "code",
   "execution_count": null,
   "metadata": {},
   "outputs": [],
   "source": [
    "song = \"The rain in Spain...\"\n",
    "wds = song.split()\n",
    "print(wds)"
   ]
  },
  {
   "cell_type": "markdown",
   "metadata": {},
   "source": [
    "An optional argument called a **delimiter** can be used to specify which characters \n",
    "to use as \n",
    "word boundaries. Notice that the delimiter does not appear in the result."
   ]
  },
  {
   "cell_type": "code",
   "execution_count": null,
   "metadata": {},
   "outputs": [],
   "source": [
    "song = \"The rain in Spain...\"\n",
    "wds = song.split('ai')\n",
    "print(wds)"
   ]
  },
  {
   "cell_type": "markdown",
   "metadata": {},
   "source": [
    "The inverse of the **split** method is **join**. You choose a desired separator string, \n",
    "(often called the **glue**) and join the list with the glue between each of the elements."
   ]
  },
  {
   "cell_type": "code",
   "execution_count": null,
   "metadata": {},
   "outputs": [],
   "source": [
    "wds = [\"red\", \"blue\", \"green\"]\n",
    "glue = ';'\n",
    "s = glue.join(wds)\n",
    "print(s)"
   ]
  },
  {
   "cell_type": "code",
   "execution_count": null,
   "metadata": {},
   "outputs": [],
   "source": [
    "print(\"***\".join(wds))"
   ]
  },
  {
   "cell_type": "code",
   "execution_count": null,
   "metadata": {},
   "outputs": [],
   "source": [
    "print(\" \".join(wds))"
   ]
  },
  {
   "cell_type": "markdown",
   "metadata": {},
   "source": [
    "<a id = \"cell_regular\"></a>"
   ]
  },
  {
   "cell_type": "markdown",
   "metadata": {},
   "source": [
    "## 2. Regular Expression ##\n",
    "\n",
    "\n",
    "*Regular expressions* are a powerful language for matching text patterns.\n",
    " Remember that you can practice its usage at: \n",
    " - https://regex101.com\n",
    " - https://regexr.com\n",
    " - https://www.regular-expressions.info\n",
    " \n",
    " In this prac, you will be given  a basic \n",
    " introduction to how  regular expressions works in Python.  The support on regular \n",
    " expression  is given by  **re** module. \n",
    "\n",
    "In Python, a regular expression search is typically written as: "
   ]
  },
  {
   "cell_type": "raw",
   "metadata": {},
   "source": [
    "match = re.search(pat, str)"
   ]
  },
  {
   "cell_type": "markdown",
   "metadata": {},
   "source": [
    "The **re.search()** methods takes a regular expression pattern and a string as \n",
    "parameters, It searches for that pattern within the string. If the search is \n",
    "successful, **search()** returns a match object; otherwise, it returns   **None**."
   ]
  },
  {
   "cell_type": "markdown",
   "metadata": {},
   "source": [
    "To start using regular expression in your Python code, import the \"re\" module. "
   ]
  },
  {
   "cell_type": "code",
   "execution_count": null,
   "metadata": {},
   "outputs": [],
   "source": [
    "import re"
   ]
  },
  {
   "cell_type": "markdown",
   "metadata": {},
   "source": [
    "The following script  provides a template to test if the search succeeded and print the\n",
    " matching text. This example searches for the pattern **word:** that followed by \n",
    " a 3-letter word. You will see that we will use this \"search\" template to test different regular expression examples later.   "
   ]
  },
  {
   "cell_type": "code",
   "execution_count": null,
   "metadata": {},
   "outputs": [],
   "source": [
    "str = 'an example word:cat!!'\n",
    "match = re.search(r'word:\\w\\w\\w', str)\n",
    "\n",
    "# If-statement after search() tests whether it succeeded\n",
    "if match:                      \n",
    "    print('found', match.group())  ## 'found word:cat'\n",
    "else:\n",
    "    print('did not find')"
   ]
  },
  {
   "cell_type": "markdown",
   "metadata": {},
   "source": [
    "\n",
    "The code **match = re.search(pat, str)** stores the search result in \n",
    "**match**. Then the **if** statement tests the **match** - if True, \n",
    "the search succeeded and **match.group()** returns the matching text. Otherwise, \n",
    "if the **match** is **False**(**None**), the search did not succeed, and \n",
    "there is no matching text. \n",
    " \n",
    "The \"**r**\" at the start of the pattern string designates a Python \"raw\" string.\n",
    " The raw string passes all the backslashes without change which is very hand for \n",
    " regular expressions.  I recommend that you always write pattern strings with the \"**r**\". \n",
    "\n",
    " "
   ]
  },
  {
   "cell_type": "markdown",
   "metadata": {},
   "source": [
    "### Basic patterns ###\n",
    "The power of regular expressions is that they can specify patterns, not just fixed \n",
    "characters. Here are the most *basic patterns* which match single chars:\n",
    "\n",
    "\t\n",
    "\n",
    "\n",
    "- **a, X, 9, <** :  ordinary characters just match themselves exactly.\n",
    " The meta-characters which do not match themselves because they have special meanings \n",
    " are: **.   + ? . ^ $ () [] {} |  \\  ** (details below)\n",
    "\n",
    "- **. **(a period):  matches any single character except newline **\\n**\n",
    "\n",
    "- ** \\w**(lowercase w): matches a \"word\" character: a letter or digit \n",
    "or underscore **[a-zA-Z0-9\\_]}. Note that although ``word'' is the mnemonic for this, \n",
    "it only matches a single word char, not a whole word. \n",
    "- **\\W ** (upper case W): matches any non-word character.\n",
    "\n",
    "- **\\b**:  Boundary between word and non-word\n",
    "\n",
    "- **\\s** (lowercase s): matches a single whitespace character -- space, \n",
    "newline, return, tab, form [\\n \\r \\t \\f ].  **\\S** (upper case S): matches any non-whitespace character.\n",
    "\n",
    "- **\\t, \\n, \\r**: Tab, newline, return\n",
    "\n",
    "- **\\d**: Decimal digit [0-9] \n",
    "\n",
    "- **^ = start, $ = end**:  match the start or end of the string"
   ]
  },
  {
   "cell_type": "markdown",
   "metadata": {},
   "source": [
    "Now let us look at some examples.\n",
    "\n",
    "Before we start, here is a joke: what do you call a pig with three eyes? **piiig**!\n",
    "\n",
    "The basic rules of regular expression search for a pattern within a string are:\n",
    "\n",
    "\n",
    "- The search proceeds through the string from start to end, stopping at the first match \n",
    "found\n",
    "- All the pattern must be matched, but not all the string\n",
    "- If **match   = re.search(pat, str)** is successful, match is not **None**\n",
    "and in particular **match.group()** is the matching text.\n",
    "\n",
    "\n",
    "\n",
    "Read through the following examples, and try them out. Please note that you should not run the following code as a script. Instead, replace the first two statements in  the previous \"search\" template  with each  individual statement and run the modified code. "
   ]
  },
  {
   "cell_type": "code",
   "execution_count": null,
   "metadata": {},
   "outputs": [],
   "source": [
    "## Search for pattern 'iii' in string 'piiig'.\n",
    "## All of the pattern must match, but it may appear anywhere.\n",
    "## On success, match.group() is matched text.\n",
    "\n",
    "match = re.search(r'iii', 'piiig')  # =>  found, match.group() == \"iii\"\n",
    "match = re.search(r'igs', 'piiig')  # =>  not found, match == None\n",
    "\n",
    "## . = any char but \\n\n",
    "match = re.search(r'..g', 'piiig') # =>  found, match.group() == \"iig\"\n",
    "\n",
    "## \\d = digit char, \\w = word char\n",
    "match = re.search(r'\\d\\d\\d', 'p123g')  #=>  found, match.group() == \"123\"\n",
    "match = re.search(r'\\w\\w\\w', '@@abcd!!') #=>  found, match.group() == \"abc\""
   ]
  },
  {
   "cell_type": "markdown",
   "metadata": {},
   "source": [
    "### Repetition\n",
    "Things get more interesting when you use + and * to specify *repetition} in the \n",
    "pattern.\n",
    "\n",
    "- **+**  1 or more occurrences of the pattern to its left, e.g. **i+} = one or \n",
    "more **i}'s\n",
    "\n",
    "- **\\***  0 or more occurrences of the pattern to its left\n",
    "\n",
    "- **?**  match 0 or 1 occurrences of the pattern to its left\n",
    "\n",
    "Here are examples to demonstrate repetition in the pattern. Again, use them to modify the \"search\" template and check the result. "
   ]
  },
  {
   "cell_type": "code",
   "execution_count": null,
   "metadata": {},
   "outputs": [],
   "source": [
    "## i+ = one or more i's, as many as possible.\n",
    "match = re.search(r'pi+', 'piiig')      #=>  found, match.group() == \"piii\"\n",
    "\n",
    "## Finds the first/leftmost solution, and within it drives the +\n",
    "## as far as possible (aka 'leftmost and largest').\n",
    "## In this example, note that it does not get to the second set of i's.\n",
    "match = re.search(r'i+', 'piigiiii')    # =>  found, match.group() == \"ii\"\n",
    "\n",
    "## \\s* = zero or more whitespace chars\n",
    "## Here look for 3 digits, possibly separated by whitespace.\n",
    "match = re.search(r'\\d\\s*\\d\\s*\\d', 'xx1 2   3xx')    #=>  found, match.group() == \"1 2   3\"\n",
    "match = re.search(r'\\d\\s*\\d\\s*\\d', 'xx12  3xx')      #=>  found, match.group() == \"12  3\"\n",
    "match = re.search(r'\\d\\s*\\d\\s*\\d', 'xx123xx')        #=>  found, match.group() == \"123\"\n",
    "\n",
    "## ^ = matches the start of string, so this fails:\n",
    "match = re.search(r'^b\\w+', 'foobar')    #=>  not found, match == None\n",
    "## but without the ^ it succeeds:\n",
    "match = re.search(r'b\\w+', 'foobar')     #=>  found, match.group() == \"bar\"`"
   ]
  },
  {
   "cell_type": "markdown",
   "metadata": {},
   "source": [
    "Here is an email example.  Suppose you want to find the email address inside a string. \n",
    "We might use the pattern **r'\\w+@\\w+** to match \n",
    "multiple characters before and after **@**. Please  run the following script:"
   ]
  },
  {
   "cell_type": "code",
   "execution_count": null,
   "metadata": {},
   "outputs": [],
   "source": [
    "import re\n",
    "str = 'purple alice-b@google.com monkey dishwasher'\n",
    "match = re.search(r'\\w+@\\w+', str)\n",
    "if match:\n",
    "     print(match.group())  "
   ]
  },
  {
   "cell_type": "markdown",
   "metadata": {},
   "source": [
    "The search does not get the whole email address in this case because the \n",
    "**\\w** does not match the **-** or **.** in \n",
    "the address. We will fix this using the regular expression features -- square \n",
    "brackets.\n",
    "\n",
    "Square brackets can be used to indicate a set of chars, so **[abc]** \n",
    "matches **a** or **b** or **c**. The codes, such as**\\w**\n",
    " and **\\s**, work inside square brackets too. The only  one exception \n",
    " that dot (.) just means a literal dot. \n",
    "\n",
    "For the emails problem, the square brackets are an easy way to add **.** and **-** \n",
    "to the set of chars which can appear around the **@**.   The pattern \n",
    "**r'[\\w.-]+@[\\w.-]+'**  is used to get the whole email address:"
   ]
  },
  {
   "cell_type": "code",
   "execution_count": null,
   "metadata": {},
   "outputs": [],
   "source": [
    "import re\n",
    "match = re.search(r'[\\w.-]+@[\\w.-]+', str)\n",
    "if match:\n",
    "    print(match.group()) "
   ]
  },
  {
   "cell_type": "markdown",
   "metadata": {},
   "source": [
    "#### Group extraction ###\n",
    "The \"group\" feature of a regular expression allows you to pick out parts of the matching\n",
    " text. Suppose for the emails problem that we want to extract the username and host separately.\n",
    "  To do this, add parenthesis ( ) around the username and host in the pattern, like this:\n",
    "   **r'([\\w.-]+)@([\\w.-]+)' **. In this case, the parenthesis\n",
    "    do not change what the pattern will match, instead they establish logical \"groups\" inside\n",
    "     of the match text. On a successful search, **match.group(1)** is the match text\n",
    "      corresponding to the 1st left parenthesis, and **match.group(2)** is the text\n",
    "       corresponding to the 2nd left parenthesis. The plain **match.group()** is still \n",
    "       the whole match text as usual."
   ]
  },
  {
   "cell_type": "code",
   "execution_count": null,
   "metadata": {},
   "outputs": [],
   "source": [
    "str = 'purple alice-b@google.com monkey dishwasher'\n",
    "match = re.search(r'([\\w.-]+)@([\\w.-]+)', str)\n",
    "if match:\n",
    "    print(match.group())   ## 'alice-b@google.com' (the whole match)\n",
    "    print(match.group(1))  ## 'alice-b' (the username, group 1)\n",
    "    print(match.group(2)) ## 'google.com' (the host, group 2)"
   ]
  },
  {
   "cell_type": "markdown",
   "metadata": {},
   "source": [
    "A common work flow with regular expressions is that you write a pattern for the thing \n",
    "you are looking for, adding parenthesis groups to extract the parts you want. "
   ]
  },
  {
   "cell_type": "markdown",
   "metadata": {},
   "source": [
    "### The **findall** function\n",
    "\n",
    " Above we used re.search() to find the first match for a pattern. **findall()* \n",
    " finds *all** the matches and returns them as a list of strings, with each string\n",
    "  representing one match."
   ]
  },
  {
   "cell_type": "code",
   "execution_count": null,
   "metadata": {},
   "outputs": [],
   "source": [
    "import re\n",
    "## Suppose we have a text with many email addresses\n",
    "str = 'purple alice@google.com, blah monkey bob@abc.com blah dishwasher'\n",
    "\n",
    "## Here re.findall() returns a list of all the found email strings\n",
    "emails = re.findall(r'[\\w\\.-]+@[\\w\\.-]+', str) ## ['alice@google.com', 'bob@abc.com']\n",
    "for email in emails:\n",
    "    # do something with each found email string\n",
    "    print(email)"
   ]
  },
  {
   "cell_type": "markdown",
   "metadata": {},
   "source": [
    "The parenthesis **( )** group mechanism can be combined with **findall()**. If the \n",
    "pattern includes 2 or more parenthesis groups, then instead of returning a list of \n",
    "strings, **findall()** returns a list of *tuples*. Each tuple represents \n",
    "one match of the pattern, and inside the tuple is the **group(1), group(2) ..** \n",
    "data."
   ]
  },
  {
   "cell_type": "code",
   "execution_count": null,
   "metadata": {},
   "outputs": [],
   "source": [
    "import re\n",
    "str = 'purple alice@google.com, blah monkey bob@abc.com blah dishwasher'\n",
    "tuples = re.findall(r'([\\w\\.-]+)@([\\w\\.-]+)', str)\n",
    "print(tuples)  ## [('alice', 'google.com'), ('bob', 'abc.com')]\n",
    "for tuple in tuples:\n",
    "    print(tuple[0])  ## username\n",
    "    print(tuple[1])  ## host"
   ]
  },
  {
   "cell_type": "markdown",
   "metadata": {},
   "source": [
    "Once you have the list of tuples, you can loop over it to do some computation for each \n",
    "tuple. If the pattern includes no parenthesis, then **findall()** returns a list of\n",
    " found strings as in earlier examples. If the pattern includes a single set of parenthesis,\n",
    "  then **findall()** returns a list of strings corresponding to that single group."
   ]
  },
  {
   "cell_type": "markdown",
   "metadata": {},
   "source": [
    "<a id = \"cell_project\"></a>"
   ]
  }
 ],
 "metadata": {
  "kernelspec": {
   "display_name": "Python 3",
   "language": "python",
   "name": "python3"
  },
  "language_info": {
   "codemirror_mode": {
    "name": "ipython",
    "version": 3
   },
   "file_extension": ".py",
   "mimetype": "text/x-python",
   "name": "python",
   "nbconvert_exporter": "python",
   "pygments_lexer": "ipython3",
   "version": "3.7.7"
  }
 },
 "nbformat": 4,
 "nbformat_minor": 4
}
