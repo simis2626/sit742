{
 "cells": [
  {
   "cell_type": "markdown",
   "metadata": {
    "colab_type": "text",
    "id": "kbeZa7WS_2-s"
   },
   "source": [
    "# SIT742: Modern Data Science \n",
    "**(Week 03: Data Wrangling)**\n",
    "\n",
    "---\n",
    "- Materials in this module include resources collected from various open-source online repositories.\n",
    "- You are free to use, change and distribute this package.\n",
    "- If you found any issue/bug for this document, please submit an issue at [tulip-lab/sit742](https://github.com/tulip-lab/sit742/issues)\n",
    "\n",
    "Prepared by **SIT742 Teaching Team**\n",
    "\n",
    "---\n",
    "\n",
    "# Session 3A - Data Wrangling with Pandas \n",
    "\n",
    "## Table of Content\n",
    "\n",
    "* Part 1. Scraping data from the web\n",
    "* Part 2. States and Territories of Australia\n",
    "* Part 3. Parsing XML files with BeautifulSoup\n",
    "\n",
    "\n",
    "**Note**: The data available on those service might be changing, so you need to adjust the code to accommodate those changes.\n",
    "\n",
    "---"
   ]
  },
  {
   "cell_type": "markdown",
   "metadata": {
    "colab_type": "text",
    "id": "rdDCBCLn_2-1"
   },
   "source": [
    "## Part 1. Scraping data from the web"
   ]
  },
  {
   "cell_type": "markdown",
   "metadata": {
    "colab_type": "text",
    "id": "TkOmnCyu_2-5"
   },
   "source": [
    "Many of you will probably be interested in scraping data from the web for your projects. For example, what if we were interested in working with some historical Canadian weather data? Well, we can get that from: http://climate.weather.gc.ca using their API. Requests are going to be formatted like this:\n"
   ]
  },
  {
   "cell_type": "code",
   "execution_count": null,
   "metadata": {
    "colab": {},
    "colab_type": "code",
    "id": "NaOZOhi0_2-8"
   },
   "outputs": [],
   "source": [
    "import pandas as pd\n",
    "\n",
    "url_template = \"http://climate.weather.gc.ca/climate_data/bulk_data_e.html?format=csv&stationID=5415&Year={year}&Month={month}&timeframe=1&submit=Download+Data\""
   ]
  },
  {
   "cell_type": "markdown",
   "metadata": {
    "colab_type": "text",
    "id": "04ZKvRtM_2_J"
   },
   "source": [
    "Note that we've requested the data be returned as a csv, and that we're going to supply the month and year as inputs when we fire off the query. To get the data for March 2012, we need to format it with month=3, year=2012:\n"
   ]
  },
  {
   "cell_type": "code",
   "execution_count": null,
   "metadata": {
    "colab": {},
    "colab_type": "code",
    "id": "W_bhAPpd_2_M"
   },
   "outputs": [],
   "source": [
    "url = url_template.format(month=3, year=2012)\n",
    "url"
   ]
  },
  {
   "cell_type": "markdown",
   "metadata": {
    "colab_type": "text",
    "id": "o76kkUME_2_V"
   },
   "source": [
    "This is great! We can just use the same read_csv function as before, and just give it a URL as a filename. Awesome.\n",
    "\n",
    "Upon inspection, we find out that there are 0 rows (as in 03/2020) of metadata at the top of this CSV, but pandas knows CSVs are weird, so there's a skiprows options. We parse the dates again, and set 'Date/Time' to be the index column. Here's the resulting dataframe."
   ]
  },
  {
   "cell_type": "code",
   "execution_count": null,
   "metadata": {
    "colab": {},
    "colab_type": "code",
    "id": "N5lP8CF9_2_Y"
   },
   "outputs": [],
   "source": [
    "weather_mar2012 = pd.read_csv(url, skiprows=0, index_col='Date/Time', parse_dates=True, encoding='latin1')"
   ]
  },
  {
   "cell_type": "code",
   "execution_count": null,
   "metadata": {
    "colab": {},
    "colab_type": "code",
    "id": "u-uWpzab_2_g"
   },
   "outputs": [],
   "source": [
    "weather_mar2012.head()"
   ]
  },
  {
   "cell_type": "markdown",
   "metadata": {
    "colab_type": "text",
    "id": "M32ynyCR_2_p"
   },
   "source": [
    "As before, we can get rid of any comlumns that don't contain real data using ${\\tt .dropna()}$"
   ]
  },
  {
   "cell_type": "code",
   "execution_count": null,
   "metadata": {
    "colab": {},
    "colab_type": "code",
    "id": "czOBl_A8_2_s"
   },
   "outputs": [],
   "source": [
    "weather_mar2012 = weather_mar2012.dropna(axis=1, how='any')"
   ]
  },
  {
   "cell_type": "code",
   "execution_count": null,
   "metadata": {
    "colab": {},
    "colab_type": "code",
    "id": "O4270mD1_2_1"
   },
   "outputs": [],
   "source": [
    "weather_mar2012.head()"
   ]
  },
  {
   "cell_type": "markdown",
   "metadata": {
    "colab_type": "text",
    "id": "O74UiyU4_3AA"
   },
   "source": [
    "Getting better! The Year/Month/Day/Time columns are redundant, though, and the Data Quality column doesn't look too useful. Let's get rid of those."
   ]
  },
  {
   "cell_type": "code",
   "execution_count": null,
   "metadata": {
    "colab": {},
    "colab_type": "code",
    "id": "nybBYbyH_3AG"
   },
   "outputs": [],
   "source": [
    "weather_mar2012 = weather_mar2012.drop(['Year', 'Month', 'Day', 'Time'], axis=1)\n",
    "weather_mar2012[:5]"
   ]
  },
  {
   "cell_type": "markdown",
   "metadata": {
    "colab_type": "text",
    "id": "fERnSYxB_3AQ"
   },
   "source": [
    "Great! Now let's figure out how to download the whole year? It would be nice if we could just send that as a single request, but like many APIs this one is limited to prevent people from hogging bandwidth. No problem: we can write a function!"
   ]
  },
  {
   "cell_type": "code",
   "execution_count": null,
   "metadata": {
    "colab": {},
    "colab_type": "code",
    "id": "f_cCjj05_3AT"
   },
   "outputs": [],
   "source": [
    "def download_weather_month(year, month):\n",
    "    url = url_template.format(year=year, month=month)\n",
    "    weather_data = pd.read_csv(url, skiprows=0, index_col='Date/Time', parse_dates=True)\n",
    "    weather_data = weather_data.dropna(axis=1)\n",
    "    weather_data.columns = [col.replace('\\xb0', '') for col in weather_data.columns]\n",
    "    weather_data = weather_data.drop(['Year', 'Day', 'Month', 'Time'], axis=1)\n",
    "    return weather_data"
   ]
  },
  {
   "cell_type": "markdown",
   "metadata": {
    "colab_type": "text",
    "id": "9icj3vwY_3Ab"
   },
   "source": [
    "Now to test that this function does the right thing:"
   ]
  },
  {
   "cell_type": "code",
   "execution_count": null,
   "metadata": {
    "colab": {},
    "colab_type": "code",
    "id": "xZT66AAk_3Ae"
   },
   "outputs": [],
   "source": [
    "download_weather_month(2020, 1).head()"
   ]
  },
  {
   "cell_type": "markdown",
   "metadata": {
    "colab_type": "text",
    "id": "2wax-OUr_3Am"
   },
   "source": [
    "Woohoo! Now we can iteratively request all the months using a single line. This will take a little while to run."
   ]
  },
  {
   "cell_type": "code",
   "execution_count": null,
   "metadata": {
    "colab": {},
    "colab_type": "code",
    "id": "-s22hxtp_3Ao"
   },
   "outputs": [],
   "source": [
    "data_by_month = [download_weather_month(2012, i) for i in range(1, 12)]"
   ]
  },
  {
   "cell_type": "markdown",
   "metadata": {
    "colab_type": "text",
    "id": "R4S-Wk3j_3Ax"
   },
   "source": [
    "Once that's done, it's easy to concatenate all the dataframes together into one big dataframe using ${\\tt pandas.concat()}$. And now we have the whole year's data!"
   ]
  },
  {
   "cell_type": "code",
   "execution_count": null,
   "metadata": {
    "colab": {},
    "colab_type": "code",
    "id": "PJCpxgx6_3A1"
   },
   "outputs": [],
   "source": [
    "weather_2012 = pd.concat(data_by_month)"
   ]
  },
  {
   "cell_type": "markdown",
   "metadata": {
    "colab_type": "text",
    "id": "tFEUd8lF_3A9"
   },
   "source": [
    "This thing is long, so instead of printing out the whole thing, I'm just going to print a quick summary of the ${\\tt DataFrame}$ by calling ${\\tt .info()}$:"
   ]
  },
  {
   "cell_type": "code",
   "execution_count": null,
   "metadata": {
    "colab": {},
    "colab_type": "code",
    "id": "zQyvC2MG_3BA"
   },
   "outputs": [],
   "source": [
    "weather_2012.info()"
   ]
  },
  {
   "cell_type": "markdown",
   "metadata": {
    "colab_type": "text",
    "id": "ckItOLd__3BJ"
   },
   "source": [
    "And a quick reminder, if we wanted to save that data to a file:"
   ]
  },
  {
   "cell_type": "code",
   "execution_count": null,
   "metadata": {
    "colab": {},
    "colab_type": "code",
    "id": "KLWc_X5h_3BM"
   },
   "outputs": [],
   "source": [
    "weather_2012.to_csv('weather_2012.csv')"
   ]
  },
  {
   "cell_type": "code",
   "execution_count": null,
   "metadata": {
    "colab": {},
    "colab_type": "code",
    "id": "pxaDCOS1_3BY"
   },
   "outputs": [],
   "source": [
    "!ls"
   ]
  },
  {
   "cell_type": "markdown",
   "metadata": {
    "colab_type": "text",
    "id": "jbZfj5eH_3Bl"
   },
   "source": [
    "And finally, something you should do early on in the wrangling process, plot data:"
   ]
  },
  {
   "cell_type": "code",
   "execution_count": null,
   "metadata": {
    "colab": {},
    "colab_type": "code",
    "id": "mv6HNBvW_3Br"
   },
   "outputs": [],
   "source": [
    "# plot that data\n",
    "import matplotlib.pyplot as plt \n",
    "# so now 'plt' means matplotlib.pyplot\n",
    "dateRange = weather_2012.index\n",
    "temperature = weather_2012['Temp (C)']\n",
    "\n",
    "df1 = pd.DataFrame({'Temperature' : temperature}, index=dateRange)\n",
    "      \n",
    "plt.plot(df1.index.to_pydatetime(), df1.Temperature)\n",
    "plt.title(\"The 2012 annual temperature in Canada\")\n",
    "plt.xlabel(\"Month\")\n",
    "plt.ylabel(\"Temperature\")"
   ]
  },
  {
   "cell_type": "code",
   "execution_count": null,
   "metadata": {
    "colab": {},
    "colab_type": "code",
    "id": "y9ansQSO_3B8"
   },
   "outputs": [],
   "source": [
    "# nothing to see... in iPython you need to specify where the chart will display, usually it's in a new window\n",
    "# to see them 'inline' use:\n",
    "%matplotlib inline\n",
    "#If you add the %matplotlib inline, then you can skip the plt.show() function.\n",
    "#How to close python warnings\n",
    "import warnings\n",
    "warnings.filterwarnings('ignore')"
   ]
  },
  {
   "cell_type": "code",
   "execution_count": null,
   "metadata": {
    "colab": {},
    "colab_type": "code",
    "id": "4Tfyd2Hf_3CJ"
   },
   "outputs": [],
   "source": [
    "# that's better, try other plots, scatter is popular, also boxplot\n",
    "df1 = pd.read_csv('weather_2012.csv', low_memory=False)\n",
    "df1.plot(kind='scatter',x='Dew Point Temp (C)',y='Rel Hum (%)',color='red')\n",
    "df1.plot(kind='scatter',x='Temp (C)',y='Wind Spd (km/h)',color='yellow')"
   ]
  },
  {
   "cell_type": "code",
   "execution_count": null,
   "metadata": {
    "colab": {},
    "colab_type": "code",
    "id": "RZdrp7EAH6eM"
   },
   "outputs": [],
   "source": [
    "#show first several 'weather' columns vaule\n",
    "weather_2012['Weather'].head()"
   ]
  },
  {
   "cell_type": "code",
   "execution_count": null,
   "metadata": {
    "colab": {},
    "colab_type": "code",
    "id": "pVlfon_bEr60"
   },
   "outputs": [],
   "source": [
    "\n",
    "#Boxplot sample\n",
    "climategroup1 = df1[df1['Weather']=='Fog']['Temp (C)']\n",
    "climategroup2 = df1[df1['Weather']=='Rain']['Temp (C)']\n",
    "climategroup3 = df1[df1['Weather']=='Clear']['Temp (C)']\n",
    "climategroup4 = df1[df1['Weather']=='Cloudy']['Temp (C)']\n",
    "\n",
    "data =[climategroup1,climategroup2,climategroup3,climategroup4]\n",
    "\n",
    "\n",
    "fig1, ax1 = plt.subplots()\n",
    "ax1.set_title('Temperature Boxplot based on the Climate group')\n",
    "ax1.set_ylabel('Temperature')\n",
    "ax1.set_xlabel('Climate Group')\n",
    "\n",
    "boxplot=ax1.boxplot(data, \n",
    "                    notch=True,\n",
    "                    patch_artist=True,\n",
    "                    labels=['For','Rain','Clear','Cloudy'],\n",
    "                   boxprops=dict(linestyle='--', linewidth=2, color='black'))\n",
    "\n",
    "colors = ['cyan', 'pink', 'lightgreen', 'tan', 'pink']\n",
    "for patch, color in zip(boxplot['boxes'], colors):\n",
    "    patch.set_facecolor(color)\n",
    "\n",
    "plt.show()"
   ]
  },
  {
   "cell_type": "markdown",
   "metadata": {
    "colab_type": "text",
    "id": "s5P7FONd_3CR"
   },
   "source": [
    "## Part 2. States and Territories of Australia \n",
    "\n",
    "We are interested in getting  State and Territory information from Wikipedia, however we do not want to copy and paste the table : )\n",
    "\n",
    "Here is the URL\n",
    "https://en.wikipedia.org/wiki/States_and_territories_of_Australia   \n",
    "\n",
    "We need two libraries to do the task:\n",
    "\n",
    "Check documentations here:\n",
    "* [urllib](https://docs.python.org/2/library/urllib.html)\n",
    "* [BeautifulSoup](https://www.crummy.com/software/BeautifulSoup/bs4/doc/)\n"
   ]
  },
  {
   "cell_type": "code",
   "execution_count": null,
   "metadata": {
    "colab": {},
    "colab_type": "code",
    "id": "QYlnsbPr_3CV"
   },
   "outputs": [],
   "source": [
    "import sys\n",
    "if sys.version_info[0] == 3:\n",
    "    from urllib.request import urlopen\n",
    "else:\n",
    "    from urllib import urlopen\n",
    "from bs4 import BeautifulSoup"
   ]
  },
  {
   "cell_type": "markdown",
   "metadata": {
    "colab_type": "text",
    "id": "rBmeWNVx_3Ce"
   },
   "source": [
    "We first save the link in wiki"
   ]
  },
  {
   "cell_type": "code",
   "execution_count": null,
   "metadata": {
    "colab": {},
    "colab_type": "code",
    "id": "P7gpk9P-_3Cg"
   },
   "outputs": [],
   "source": [
    "wiki = \"https://en.wikipedia.org/wiki/States_and_territories_of_Australia\""
   ]
  },
  {
   "cell_type": "markdown",
   "metadata": {
    "colab_type": "text",
    "id": "OpIxUZ4a_3Cn"
   },
   "source": [
    "Then use ulropen to open the page. \n",
    "\n",
    "If you get \"SSL: CERTIFICATE_VERIFY_FAILED\", what you need to do is find where \"Install Certificates.command\" file is, and click it to upgrade the certificate. Then, you should be able to solve the problem."
   ]
  },
  {
   "cell_type": "code",
   "execution_count": null,
   "metadata": {
    "colab": {},
    "colab_type": "code",
    "id": "00UN2EMw_3Cq"
   },
   "outputs": [],
   "source": [
    "page = urlopen(wiki)"
   ]
  },
  {
   "cell_type": "code",
   "execution_count": null,
   "metadata": {
    "colab": {},
    "colab_type": "code",
    "id": "vbjPbWLl_3Cx"
   },
   "outputs": [],
   "source": [
    "if sys.version_info[0] == 3:\n",
    "    page = page.read()"
   ]
  },
  {
   "cell_type": "markdown",
   "metadata": {
    "colab_type": "text",
    "id": "kyy4lpJ7_3C4"
   },
   "source": [
    "You will meet BeautifulSoup later in this subject, so don't worry if you feel uncomfortable with it now. You can always revisit. \n",
    "\n",
    "We begin by reading in the source code and creating a Beautiful Soup object with the BeautifulSoup function."
   ]
  },
  {
   "cell_type": "code",
   "execution_count": null,
   "metadata": {
    "colab": {},
    "colab_type": "code",
    "id": "KMjST_SK_3C9"
   },
   "outputs": [],
   "source": [
    "soup = BeautifulSoup(page, \"lxml\")"
   ]
  },
  {
   "cell_type": "markdown",
   "metadata": {
    "colab_type": "text",
    "id": "arXCtPja_3DJ"
   },
   "source": [
    "Then we print and see. "
   ]
  },
  {
   "cell_type": "code",
   "execution_count": null,
   "metadata": {
    "colab": {},
    "colab_type": "code",
    "id": "6VUNMhBW_3DM"
   },
   "outputs": [],
   "source": [
    " print (soup.prettify())"
   ]
  },
  {
   "cell_type": "markdown",
   "metadata": {
    "colab_type": "text",
    "id": "GNlxOnLL_3DX"
   },
   "source": [
    "For who do not know much about HTML, this might be a bit overwhelming, but essentially it contains lots of tags in the angled brackets providing structural and formatting information that we don't care so much here. What we need is the table. \n",
    "\n",
    "Let's first check the title."
   ]
  },
  {
   "cell_type": "code",
   "execution_count": null,
   "metadata": {
    "colab": {},
    "colab_type": "code",
    "id": "OX2ce0ZK_3Df"
   },
   "outputs": [],
   "source": [
    "soup.title.string"
   ]
  },
  {
   "cell_type": "markdown",
   "metadata": {
    "colab_type": "text",
    "id": "L5X_vbyY_3Do"
   },
   "source": [
    "It looks fine, then we would like to find the table. \n",
    "\n",
    "Let's have a try to extract all contents within the 'table' tag."
   ]
  },
  {
   "cell_type": "code",
   "execution_count": null,
   "metadata": {
    "colab": {},
    "colab_type": "code",
    "id": "2mdtetMZ_3Dq"
   },
   "outputs": [],
   "source": [
    "all_tables = soup.findAll('table')\n",
    "print(all_tables)"
   ]
  },
  {
   "cell_type": "markdown",
   "metadata": {
    "colab_type": "text",
    "id": "N0tvbY3S_3Dw"
   },
   "source": [
    "This returns a collection of tag objects. It seems that most of the information are useless and it's getting hard to hunt for the table. So searched online and found an instruction here: \n",
    "\n",
    "https://adesquared.wordpress.com/2013/06/16/using-python-beautifulsoup-to-scrape-a-wikipedia-table/\n",
    "\n",
    "The class is \"wikitable sortable\"!! Have a try then.   "
   ]
  },
  {
   "cell_type": "code",
   "execution_count": null,
   "metadata": {
    "colab": {},
    "colab_type": "code",
    "id": "c350bOM0_3Dz"
   },
   "outputs": [],
   "source": [
    "right_table=soup.find('table', class_='wikitable sortable')\n",
    "print (right_table)"
   ]
  },
  {
   "cell_type": "markdown",
   "metadata": {
    "colab_type": "text",
    "id": "jbqSZ0i7_3D5"
   },
   "source": [
    "Next we need to extract table header row by find the first 'tr'>"
   ]
  },
  {
   "cell_type": "code",
   "execution_count": null,
   "metadata": {
    "colab": {},
    "colab_type": "code",
    "id": "Pt3kyOGd_3D7"
   },
   "outputs": [],
   "source": [
    "head_row = right_table.find('tr')\n",
    "print (head_row)"
   ]
  },
  {
   "cell_type": "markdown",
   "metadata": {
    "colab_type": "text",
    "id": "uj-r3Xhs_3EB"
   },
   "source": [
    "Then we extract header row name via iterate through each row and extract text. \n",
    "\n",
    "The .findAll function in Python returns a list containing all the elements, which you can iterate through."
   ]
  },
  {
   "cell_type": "code",
   "execution_count": null,
   "metadata": {
    "colab": {},
    "colab_type": "code",
    "id": "NLwGVlDi_3ED"
   },
   "outputs": [],
   "source": [
    "header_list = []\n",
    "headers = head_row.findAll('th')\n",
    "for header in headers:\n",
    "    #print header.find(text = True)\n",
    "    header_list.append(header.find(text = True))\n",
    "header_list"
   ]
  },
  {
   "cell_type": "markdown",
   "metadata": {
    "colab_type": "text",
    "id": "UZNmqW_J_3EK"
   },
   "source": [
    "We can probably iterate trough this list and then extract contents. But let's take a simple approach of extracting each column separately. "
   ]
  },
  {
   "cell_type": "code",
   "execution_count": null,
   "metadata": {
    "colab": {},
    "colab_type": "code",
    "id": "wNw5o7xQ_3EO"
   },
   "outputs": [],
   "source": [
    "flag=[]\n",
    "state=[]\n",
    "abbrev = []\n",
    "ISO = []\n",
    "Postal =[]\n",
    "Capital = []\n",
    "Population = []\n",
    "Area = []\n",
    "Gov = []\n",
    "Premier = []\n",
    "for row in right_table.findAll(\"tr\"):\n",
    "    cells = row.findAll('td')\n",
    "    if len(cells) > 0 : # and len(cells) < 10:\n",
    "        flag.append(cells[0].find(text=True))\n",
    "        state.append(cells[1].find(text=True))\n",
    "        abbrev.append(cells[2].find(text=True))\n",
    "        ISO.append(cells[3].find(text=True))\n",
    "        Postal.append(cells[4].find(text=True))\n",
    "        Capital.append(cells[5].find(text=True))\n",
    "        Population.append(cells[6].find(text=True))\n",
    "        Area.append(cells[7].find(text=True))\n",
    "        Gov.append(cells[8].find(text=True))\n",
    "        Premier.append(cells[10].find(text=True))\n"
   ]
  },
  {
   "cell_type": "markdown",
   "metadata": {
    "colab_type": "text",
    "id": "aB_ywSZe_3EZ"
   },
   "source": [
    "Next we can append all list to the dataframe."
   ]
  },
  {
   "cell_type": "code",
   "execution_count": null,
   "metadata": {
    "colab": {},
    "colab_type": "code",
    "id": "B0KLUyg9_3Eb"
   },
   "outputs": [],
   "source": [
    "df_au = pd.DataFrame()\n",
    "df_au[header_list[0]] = flag\n",
    "df_au[header_list[1]] = state\n",
    "df_au[header_list[2]] = abbrev\n",
    "df_au[header_list[3]] = ISO\n",
    "df_au[header_list[4]] = Postal\n",
    "df_au[header_list[5]] = Capital\n",
    "df_au[header_list[6]] = Population\n",
    "df_au[header_list[7]] = Area\n",
    "df_au[header_list[8]] = Gov\n",
    "df_au[header_list[9]] = Premier\n"
   ]
  },
  {
   "cell_type": "markdown",
   "metadata": {
    "colab_type": "text",
    "id": "kAkmBKlD_3E1"
   },
   "source": [
    "Done !"
   ]
  },
  {
   "cell_type": "code",
   "execution_count": null,
   "metadata": {
    "colab": {},
    "colab_type": "code",
    "id": "0SVh16b8_3E3"
   },
   "outputs": [],
   "source": [
    "df_au"
   ]
  },
  {
   "cell_type": "markdown",
   "metadata": {
    "colab_type": "text",
    "id": "5kjxc5gJ_3E-"
   },
   "source": [
    "## Part 3. Parsing XML files with BeautifulSoup\n",
    "\n",
    "Now, we are going to demonstrate how to use BeautifulSoup to extract information from the XML file, called \"Melbourne_bike_share.xml\". \n",
    "\n",
    "For the documentation of BeautifulSoup, please refer to it <a href=\"https://www.crummy.com/software/BeautifulSoup/bs4/doc/#find-all\">official website</a>. "
   ]
  },
  {
   "cell_type": "code",
   "execution_count": null,
   "metadata": {
    "colab": {},
    "colab_type": "code",
    "id": "U9PvAywQ_3FC"
   },
   "outputs": [],
   "source": [
    "!pip install wget"
   ]
  },
  {
   "cell_type": "code",
   "execution_count": null,
   "metadata": {
    "colab": {},
    "colab_type": "code",
    "id": "PGQz6buj_3FO"
   },
   "outputs": [],
   "source": [
    "import wget\n",
    "\n",
    "link_to_data = 'https://github.com/tulip-lab/sit742/raw/master/Jupyter/data/Melbourne_bike_share.xml'\n",
    "\n",
    "DataSet = wget.download(link_to_data)"
   ]
  },
  {
   "cell_type": "code",
   "execution_count": null,
   "metadata": {
    "colab": {},
    "colab_type": "code",
    "id": "C74O1AZi_3Fe"
   },
   "outputs": [],
   "source": [
    "!ls"
   ]
  },
  {
   "cell_type": "code",
   "execution_count": null,
   "metadata": {
    "colab": {},
    "colab_type": "code",
    "id": "M8_FzMW7_3Fn"
   },
   "outputs": [],
   "source": [
    "from bs4 import BeautifulSoup\n",
    "btree = BeautifulSoup(open(\"Melbourne_bike_share.xml\"),\"lxml-xml\") "
   ]
  },
  {
   "cell_type": "markdown",
   "metadata": {
    "colab_type": "text",
    "id": "Hfn2u3mD_3Fx"
   },
   "source": [
    "You can alo print out the Beautifulsoup object by calling the <font color=\"blue\">prettify()</font> function."
   ]
  },
  {
   "cell_type": "code",
   "execution_count": null,
   "metadata": {
    "colab": {},
    "colab_type": "code",
    "id": "-Q6Ub0I3_3F0"
   },
   "outputs": [],
   "source": [
    "print(btree.prettify())"
   ]
  },
  {
   "cell_type": "markdown",
   "metadata": {
    "colab_type": "text",
    "id": "jdwTEA8o_3F7"
   },
   "source": [
    "It is easy to figure out information we would like to extract is stored in the following tags\n",
    "<ul>\n",
    "<li>id </li>\n",
    "<li>featurename </li>\n",
    "<li>terminalname </li>\n",
    "<li>nbbikes </li>\n",
    "<li>nbemptydoc </li>\n",
    "<li>uploaddate </li>\n",
    "<li>coordinates </li>\n",
    "</ul>\n",
    "\n",
    "Each record is stored in \"<row> </row>\". To extract information from those tags, except for \"coordinates\", we use the <font color=\"blue\">find_all()</font> function. Its documentation can be found <a href=\"https://www.crummy.com/software/BeautifulSoup/bs4/doc/#find-all\">here</a>."
   ]
  },
  {
   "cell_type": "code",
   "execution_count": null,
   "metadata": {
    "colab": {},
    "colab_type": "code",
    "id": "idfayYMs_3F9"
   },
   "outputs": [],
   "source": [
    "featuretags = btree.find_all(\"featurename\")\n",
    "featuretags"
   ]
  },
  {
   "cell_type": "markdown",
   "metadata": {
    "colab_type": "text",
    "id": "Z0BX1WXz_3GF"
   },
   "source": [
    "The output shows that the <font color=\"blue\"> find_all() </font> returns all the 50 station names. Now, we need to exclude the tags and just keep the text stored between the tags."
   ]
  },
  {
   "cell_type": "code",
   "execution_count": null,
   "metadata": {
    "colab": {},
    "colab_type": "code",
    "id": "LjrE6lCt_3GH"
   },
   "outputs": [],
   "source": [
    "for feature in featuretags:\n",
    "    print (feature.string)"
   ]
  },
  {
   "cell_type": "markdown",
   "metadata": {
    "colab_type": "text",
    "id": "UgEGKqPn_3GN"
   },
   "source": [
    "Now, we can put all the above code together using list comprehensions. "
   ]
  },
  {
   "cell_type": "code",
   "execution_count": null,
   "metadata": {
    "colab": {},
    "colab_type": "code",
    "id": "cnPMrw9q_3GP"
   },
   "outputs": [],
   "source": [
    "featurenames = [feature.string for feature in btree.find_all(\"featurename\")]"
   ]
  },
  {
   "cell_type": "code",
   "execution_count": null,
   "metadata": {
    "colab": {},
    "colab_type": "code",
    "id": "-QENZXhR_3GZ"
   },
   "outputs": [],
   "source": [
    "featurenames"
   ]
  },
  {
   "cell_type": "markdown",
   "metadata": {
    "colab_type": "text",
    "id": "MAelvxak_3Gf"
   },
   "source": [
    "Similarly, we can use the <font color = \"blue\">find_all()</font> function to extract the other information."
   ]
  },
  {
   "cell_type": "code",
   "execution_count": null,
   "metadata": {
    "colab": {},
    "colab_type": "code",
    "id": "OVbqKrkd_3Gh"
   },
   "outputs": [],
   "source": [
    "nbbikes = [feature.string for feature in btree.find_all(\"nbbikes\")]\n",
    "nbbikes"
   ]
  },
  {
   "cell_type": "code",
   "execution_count": null,
   "metadata": {
    "colab": {},
    "colab_type": "code",
    "id": "mcCoGjMx_3Gu"
   },
   "outputs": [],
   "source": [
    "NBEmptydoc = [feature.string for feature in btree.find_all(\"nbemptydoc\")]\n",
    "NBEmptydoc"
   ]
  },
  {
   "cell_type": "code",
   "execution_count": null,
   "metadata": {
    "colab": {},
    "colab_type": "code",
    "id": "EA1tJSFA_3G6"
   },
   "outputs": [],
   "source": [
    "TerminalNames = [feature.string for feature in btree.find_all(\"terminalname\")]\n",
    "TerminalNames"
   ]
  },
  {
   "cell_type": "code",
   "execution_count": null,
   "metadata": {
    "colab": {},
    "colab_type": "code",
    "id": "7ZgDBKA4_3HB"
   },
   "outputs": [],
   "source": [
    "UploadDate = [feature.string for feature in btree.find_all(\"uploaddate\")]\n",
    "UploadDate"
   ]
  },
  {
   "cell_type": "code",
   "execution_count": null,
   "metadata": {
    "colab": {},
    "colab_type": "code",
    "id": "m-gueegN_3HO"
   },
   "outputs": [],
   "source": [
    "ids = [feature.string for feature in btree.find_all(\"id\")]\n",
    "ids"
   ]
  },
  {
   "cell_type": "markdown",
   "metadata": {
    "colab_type": "text",
    "id": "r7Lqno8g_3HW"
   },
   "source": [
    "Now, how can we extract the attribute values from the tage called \"coordinates\"?"
   ]
  },
  {
   "cell_type": "code",
   "execution_count": null,
   "metadata": {
    "colab": {},
    "colab_type": "code",
    "id": "4y5q2ndf_3Ha"
   },
   "outputs": [],
   "source": [
    "lattitudes = [coord[\"latitude\"] for coord in btree.find_all(\"coordinates\")]\n",
    "lattitudes"
   ]
  },
  {
   "cell_type": "code",
   "execution_count": null,
   "metadata": {
    "colab": {},
    "colab_type": "code",
    "id": "h7ji076m_3Hj"
   },
   "outputs": [],
   "source": [
    "longitudes = [coord[\"longitude\"] for coord in btree.find_all(\"coordinates\")]\n",
    "longitudes"
   ]
  },
  {
   "cell_type": "markdown",
   "metadata": {
    "colab_type": "text",
    "id": "eBu7drmL_3Hs"
   },
   "source": [
    "After the extraction, we can put all the information in a Pandas DataFrame."
   ]
  },
  {
   "cell_type": "code",
   "execution_count": null,
   "metadata": {
    "colab": {},
    "colab_type": "code",
    "id": "7Ehg6SQK_3Hu"
   },
   "outputs": [],
   "source": [
    "import pandas as pd \n",
    "dataDict = {}\n",
    "dataDict['Featurename'] = featurenames\n",
    "dataDict['TerminalName'] = TerminalNames\n",
    "dataDict['NBBikes'] = nbbikes\n",
    "dataDict['NBEmptydoc'] = NBEmptydoc\n",
    "dataDict['UploadDate'] = UploadDate\n",
    "dataDict['lat'] = lattitudes\n",
    "dataDict['lon'] = longitudes\n",
    "df = pd.DataFrame(dataDict, index = ids)\n",
    "df.index.name = 'ID'\n",
    "df.head()"
   ]
  }
 ],
 "metadata": {
  "colab": {
   "collapsed_sections": [
    "s5P7FONd_3CR",
    "5kjxc5gJ_3E-"
   ],
   "name": "SIT742P03A-DataWrangling.ipynb",
   "provenance": [],
   "version": "0.3.2"
  },
  "kernelspec": {
   "display_name": "Python 3",
   "language": "python",
   "name": "python3"
  },
  "language_info": {
   "codemirror_mode": {
    "name": "ipython",
    "version": 3
   },
   "file_extension": ".py",
   "mimetype": "text/x-python",
   "name": "python",
   "nbconvert_exporter": "python",
   "pygments_lexer": "ipython3",
   "version": "3.7.7"
  }
 },
 "nbformat": 4,
 "nbformat_minor": 4
}
